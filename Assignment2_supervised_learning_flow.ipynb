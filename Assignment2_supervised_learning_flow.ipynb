{
 "cells": [
  {
   "cell_type": "markdown",
   "id": "ec202ada",
   "metadata": {},
   "source": [
    "# Assignment2 - Supervised Learning flow"
   ]
  },
  {
   "cell_type": "markdown",
   "id": "b06a2810",
   "metadata": {},
   "source": [
    "# Part 1 - Student details:\n",
    "* Please write the First Name and last 4 digits of the i.d. for each student. For example:\n",
    "<pre>Israel 9812</pre>"
   ]
  },
  {
   "cell_type": "code",
   "execution_count": 1,
   "id": "ca16486b",
   "metadata": {},
   "outputs": [],
   "source": [
    "# student 1: Adana Abey , 3572\n",
    "# student 2: Shai Dahari, 0431"
   ]
  },
  {
   "cell_type": "markdown",
   "id": "df67c2ee-87c8-499c-a04f-1853c332f51d",
   "metadata": {},
   "source": [
    "## Part 2 - Initial Preparations \n",
    "You could add as many code cells as needed"
   ]
  },
  {
   "cell_type": "code",
   "execution_count": 2,
   "id": "b29b3454-b568-4614-8017-f15b3c59fc55",
   "metadata": {},
   "outputs": [],
   "source": [
    "import warnings\n",
    "warnings.simplefilter(\"ignore\")\n",
    "%matplotlib inline\n",
    "# --------------------------------------\n",
    "# show several outputs in one cell. \n",
    "from IPython.core.interactiveshell import InteractiveShell\n",
    "InteractiveShell.ast_node_interactivity = \"all\"\n",
    "# --------------------------------------\n",
    "# This setup is useful for data  \n",
    "import numpy as np\n",
    "import pandas as pd\n",
    "import seaborn as sns\n",
    "import matplotlib.pyplot as plt\n",
    "from matplotlib.colors import ListedColormap\n",
    "#import sklearn: preprocessing, Feature selection, Features engineering\n",
    "from sklearn import datasets\n",
    "from sklearn import preprocessing\n",
    "from sklearn.preprocessing import StandardScaler\n",
    "from sklearn.preprocessing import LabelEncoder\n",
    "from sklearn.decomposition import PCA\n",
    "# Import necessary libraries for classification models and parameter tuning\n",
    "from sklearn.neighbors import KNeighborsClassifier\n",
    "from sklearn.naive_bayes import GaussianNB\n",
    "from sklearn.tree import DecisionTreeClassifier\n",
    "from sklearn.ensemble import RandomForestClassifier\n",
    "from sklearn.model_selection import GridSearchCV, train_test_split\n",
    "from sklearn.metrics import accuracy_score, classification_report, confusion_matrix\n",
    "from sklearn.metrics import accuracy_score, precision_score, recall_score, f1_score\n",
    "from sklearn.pipeline import Pipeline"
   ]
  },
  {
   "cell_type": "markdown",
   "id": "cc997890",
   "metadata": {},
   "source": [
    "# Loading the trainset and the testset:\n",
    "1. Display the first 5 rows of each dataset.\n",
    "2. Displaying statistical information of each dataset.\n",
    "3. Displaying the information type of each dataset."
   ]
  },
  {
   "cell_type": "code",
   "execution_count": 3,
   "id": "4b47fe56-d611-4b28-be92-673db4d56400",
   "metadata": {},
   "outputs": [],
   "source": [
    "def load_dataset(file_name1, file_name2):\n",
    "    # Load the training dataset\n",
    "    train_df = pd.read_csv(file_name1)\n",
    "    \n",
    "    # Load the test dataset\n",
    "    test_df = pd.read_csv(file_name2)\n",
    "    \n",
    "    return train_df, test_df"
   ]
  },
  {
   "cell_type": "code",
   "execution_count": 4,
   "id": "8e343016",
   "metadata": {
    "scrolled": false
   },
   "outputs": [],
   "source": [
    "# load_dataset(train & test) - using the function above.\n",
    "# IMPLEMENT & RUN \n",
    "\n",
    "file_name1 = 'titanic_train.csv'\n",
    "file_name2 = 'titanic_test.csv'\n",
    "titanicTrain_df, titanicTest_df = load_dataset (file_name1, file_name2)"
   ]
  },
  {
   "cell_type": "markdown",
   "id": "eddf142d",
   "metadata": {},
   "source": [
    "# Train Data Set"
   ]
  },
  {
   "cell_type": "markdown",
   "id": "6a01f62a",
   "metadata": {},
   "source": [
    "**Display the first 5 rows of train dataset**"
   ]
  },
  {
   "cell_type": "code",
   "execution_count": 5,
   "id": "33be2f89",
   "metadata": {},
   "outputs": [
    {
     "name": "stdout",
     "output_type": "stream",
     "text": [
      "The dimensions of the data frame are: rows = 712, columns = 8\n"
     ]
    },
    {
     "data": {
      "text/html": [
       "<div>\n",
       "<style scoped>\n",
       "    .dataframe tbody tr th:only-of-type {\n",
       "        vertical-align: middle;\n",
       "    }\n",
       "\n",
       "    .dataframe tbody tr th {\n",
       "        vertical-align: top;\n",
       "    }\n",
       "\n",
       "    .dataframe thead th {\n",
       "        text-align: right;\n",
       "    }\n",
       "</style>\n",
       "<table border=\"1\" class=\"dataframe\">\n",
       "  <thead>\n",
       "    <tr style=\"text-align: right;\">\n",
       "      <th></th>\n",
       "      <th>Pclass</th>\n",
       "      <th>Sex</th>\n",
       "      <th>Age</th>\n",
       "      <th>SibSp</th>\n",
       "      <th>Parch</th>\n",
       "      <th>Fare</th>\n",
       "      <th>Embarked</th>\n",
       "      <th>Survived</th>\n",
       "    </tr>\n",
       "  </thead>\n",
       "  <tbody>\n",
       "    <tr>\n",
       "      <th>0</th>\n",
       "      <td>1</td>\n",
       "      <td>0</td>\n",
       "      <td>54.0</td>\n",
       "      <td>1</td>\n",
       "      <td>0</td>\n",
       "      <td>78.2667</td>\n",
       "      <td>1</td>\n",
       "      <td>1</td>\n",
       "    </tr>\n",
       "    <tr>\n",
       "      <th>1</th>\n",
       "      <td>2</td>\n",
       "      <td>0</td>\n",
       "      <td>45.0</td>\n",
       "      <td>0</td>\n",
       "      <td>0</td>\n",
       "      <td>13.5000</td>\n",
       "      <td>0</td>\n",
       "      <td>1</td>\n",
       "    </tr>\n",
       "    <tr>\n",
       "      <th>2</th>\n",
       "      <td>3</td>\n",
       "      <td>1</td>\n",
       "      <td>20.0</td>\n",
       "      <td>0</td>\n",
       "      <td>0</td>\n",
       "      <td>9.5000</td>\n",
       "      <td>0</td>\n",
       "      <td>0</td>\n",
       "    </tr>\n",
       "    <tr>\n",
       "      <th>3</th>\n",
       "      <td>3</td>\n",
       "      <td>1</td>\n",
       "      <td>36.0</td>\n",
       "      <td>0</td>\n",
       "      <td>0</td>\n",
       "      <td>7.8958</td>\n",
       "      <td>0</td>\n",
       "      <td>0</td>\n",
       "    </tr>\n",
       "    <tr>\n",
       "      <th>4</th>\n",
       "      <td>3</td>\n",
       "      <td>1</td>\n",
       "      <td>22.0</td>\n",
       "      <td>0</td>\n",
       "      <td>0</td>\n",
       "      <td>8.0500</td>\n",
       "      <td>0</td>\n",
       "      <td>0</td>\n",
       "    </tr>\n",
       "  </tbody>\n",
       "</table>\n",
       "</div>"
      ],
      "text/plain": [
       "   Pclass  Sex   Age  SibSp  Parch     Fare  Embarked  Survived\n",
       "0       1    0  54.0      1      0  78.2667         1         1\n",
       "1       2    0  45.0      0      0  13.5000         0         1\n",
       "2       3    1  20.0      0      0   9.5000         0         0\n",
       "3       3    1  36.0      0      0   7.8958         0         0\n",
       "4       3    1  22.0      0      0   8.0500         0         0"
      ]
     },
     "execution_count": 5,
     "metadata": {},
     "output_type": "execute_result"
    }
   ],
   "source": [
    "print(f\"The dimensions of the data frame are: rows = {titanicTrain_df.shape[0]}, columns = {titanicTrain_df.shape[1]}\")\n",
    "titanicTrain_df.head()"
   ]
  },
  {
   "cell_type": "markdown",
   "id": "c3854561",
   "metadata": {},
   "source": [
    "**Statistical information of train dataset**"
   ]
  },
  {
   "cell_type": "code",
   "execution_count": 6,
   "id": "45a822f1",
   "metadata": {},
   "outputs": [
    {
     "data": {
      "text/html": [
       "<div>\n",
       "<style scoped>\n",
       "    .dataframe tbody tr th:only-of-type {\n",
       "        vertical-align: middle;\n",
       "    }\n",
       "\n",
       "    .dataframe tbody tr th {\n",
       "        vertical-align: top;\n",
       "    }\n",
       "\n",
       "    .dataframe thead th {\n",
       "        text-align: right;\n",
       "    }\n",
       "</style>\n",
       "<table border=\"1\" class=\"dataframe\">\n",
       "  <thead>\n",
       "    <tr style=\"text-align: right;\">\n",
       "      <th></th>\n",
       "      <th>Pclass</th>\n",
       "      <th>Sex</th>\n",
       "      <th>Age</th>\n",
       "      <th>SibSp</th>\n",
       "      <th>Parch</th>\n",
       "      <th>Fare</th>\n",
       "      <th>Embarked</th>\n",
       "      <th>Survived</th>\n",
       "    </tr>\n",
       "  </thead>\n",
       "  <tbody>\n",
       "    <tr>\n",
       "      <th>count</th>\n",
       "      <td>712.000000</td>\n",
       "      <td>712.000000</td>\n",
       "      <td>712.000000</td>\n",
       "      <td>712.000000</td>\n",
       "      <td>712.000000</td>\n",
       "      <td>712.000000</td>\n",
       "      <td>712.000000</td>\n",
       "      <td>712.000000</td>\n",
       "    </tr>\n",
       "    <tr>\n",
       "      <th>mean</th>\n",
       "      <td>2.294944</td>\n",
       "      <td>0.640449</td>\n",
       "      <td>29.531213</td>\n",
       "      <td>0.528090</td>\n",
       "      <td>0.384831</td>\n",
       "      <td>32.379429</td>\n",
       "      <td>0.372191</td>\n",
       "      <td>0.394663</td>\n",
       "    </tr>\n",
       "    <tr>\n",
       "      <th>std</th>\n",
       "      <td>0.841990</td>\n",
       "      <td>0.480206</td>\n",
       "      <td>13.188028</td>\n",
       "      <td>1.055052</td>\n",
       "      <td>0.803085</td>\n",
       "      <td>49.836074</td>\n",
       "      <td>0.649970</td>\n",
       "      <td>0.489122</td>\n",
       "    </tr>\n",
       "    <tr>\n",
       "      <th>min</th>\n",
       "      <td>1.000000</td>\n",
       "      <td>0.000000</td>\n",
       "      <td>0.670000</td>\n",
       "      <td>0.000000</td>\n",
       "      <td>0.000000</td>\n",
       "      <td>0.000000</td>\n",
       "      <td>0.000000</td>\n",
       "      <td>0.000000</td>\n",
       "    </tr>\n",
       "    <tr>\n",
       "      <th>25%</th>\n",
       "      <td>1.750000</td>\n",
       "      <td>0.000000</td>\n",
       "      <td>22.000000</td>\n",
       "      <td>0.000000</td>\n",
       "      <td>0.000000</td>\n",
       "      <td>7.925000</td>\n",
       "      <td>0.000000</td>\n",
       "      <td>0.000000</td>\n",
       "    </tr>\n",
       "    <tr>\n",
       "      <th>50%</th>\n",
       "      <td>3.000000</td>\n",
       "      <td>1.000000</td>\n",
       "      <td>29.699118</td>\n",
       "      <td>0.000000</td>\n",
       "      <td>0.000000</td>\n",
       "      <td>14.500000</td>\n",
       "      <td>0.000000</td>\n",
       "      <td>0.000000</td>\n",
       "    </tr>\n",
       "    <tr>\n",
       "      <th>75%</th>\n",
       "      <td>3.000000</td>\n",
       "      <td>1.000000</td>\n",
       "      <td>35.000000</td>\n",
       "      <td>1.000000</td>\n",
       "      <td>0.000000</td>\n",
       "      <td>31.275000</td>\n",
       "      <td>1.000000</td>\n",
       "      <td>1.000000</td>\n",
       "    </tr>\n",
       "    <tr>\n",
       "      <th>max</th>\n",
       "      <td>3.000000</td>\n",
       "      <td>1.000000</td>\n",
       "      <td>80.000000</td>\n",
       "      <td>8.000000</td>\n",
       "      <td>6.000000</td>\n",
       "      <td>512.329200</td>\n",
       "      <td>3.000000</td>\n",
       "      <td>1.000000</td>\n",
       "    </tr>\n",
       "  </tbody>\n",
       "</table>\n",
       "</div>"
      ],
      "text/plain": [
       "           Pclass         Sex         Age       SibSp       Parch        Fare  \\\n",
       "count  712.000000  712.000000  712.000000  712.000000  712.000000  712.000000   \n",
       "mean     2.294944    0.640449   29.531213    0.528090    0.384831   32.379429   \n",
       "std      0.841990    0.480206   13.188028    1.055052    0.803085   49.836074   \n",
       "min      1.000000    0.000000    0.670000    0.000000    0.000000    0.000000   \n",
       "25%      1.750000    0.000000   22.000000    0.000000    0.000000    7.925000   \n",
       "50%      3.000000    1.000000   29.699118    0.000000    0.000000   14.500000   \n",
       "75%      3.000000    1.000000   35.000000    1.000000    0.000000   31.275000   \n",
       "max      3.000000    1.000000   80.000000    8.000000    6.000000  512.329200   \n",
       "\n",
       "         Embarked    Survived  \n",
       "count  712.000000  712.000000  \n",
       "mean     0.372191    0.394663  \n",
       "std      0.649970    0.489122  \n",
       "min      0.000000    0.000000  \n",
       "25%      0.000000    0.000000  \n",
       "50%      0.000000    0.000000  \n",
       "75%      1.000000    1.000000  \n",
       "max      3.000000    1.000000  "
      ]
     },
     "execution_count": 6,
     "metadata": {},
     "output_type": "execute_result"
    }
   ],
   "source": [
    "titanicTrain_df.describe()"
   ]
  },
  {
   "cell_type": "markdown",
   "id": "78f7b948",
   "metadata": {},
   "source": [
    "**Displaying the information & type of train dataset**"
   ]
  },
  {
   "cell_type": "code",
   "execution_count": 7,
   "id": "4506ef7f",
   "metadata": {
    "scrolled": true
   },
   "outputs": [
    {
     "name": "stdout",
     "output_type": "stream",
     "text": [
      "<class 'pandas.core.frame.DataFrame'>\n",
      "RangeIndex: 712 entries, 0 to 711\n",
      "Data columns (total 8 columns):\n",
      " #   Column    Non-Null Count  Dtype  \n",
      "---  ------    --------------  -----  \n",
      " 0   Pclass    712 non-null    int64  \n",
      " 1   Sex       712 non-null    int64  \n",
      " 2   Age       712 non-null    float64\n",
      " 3   SibSp     712 non-null    int64  \n",
      " 4   Parch     712 non-null    int64  \n",
      " 5   Fare      712 non-null    float64\n",
      " 6   Embarked  712 non-null    int64  \n",
      " 7   Survived  712 non-null    int64  \n",
      "dtypes: float64(2), int64(6)\n",
      "memory usage: 44.6 KB\n"
     ]
    }
   ],
   "source": [
    "titanicTrain_df.info()"
   ]
  },
  {
   "cell_type": "markdown",
   "id": "2d53c762",
   "metadata": {},
   "source": [
    "# Test Data Set"
   ]
  },
  {
   "cell_type": "markdown",
   "id": "06326c42",
   "metadata": {},
   "source": [
    "**Display the first 5 rows of test dataset**"
   ]
  },
  {
   "cell_type": "code",
   "execution_count": 8,
   "id": "0751e89c",
   "metadata": {},
   "outputs": [
    {
     "name": "stdout",
     "output_type": "stream",
     "text": [
      "The dimensions of the data frame are: rows = 179, columns = 8\n"
     ]
    },
    {
     "data": {
      "text/html": [
       "<div>\n",
       "<style scoped>\n",
       "    .dataframe tbody tr th:only-of-type {\n",
       "        vertical-align: middle;\n",
       "    }\n",
       "\n",
       "    .dataframe tbody tr th {\n",
       "        vertical-align: top;\n",
       "    }\n",
       "\n",
       "    .dataframe thead th {\n",
       "        text-align: right;\n",
       "    }\n",
       "</style>\n",
       "<table border=\"1\" class=\"dataframe\">\n",
       "  <thead>\n",
       "    <tr style=\"text-align: right;\">\n",
       "      <th></th>\n",
       "      <th>Pclass</th>\n",
       "      <th>Sex</th>\n",
       "      <th>Age</th>\n",
       "      <th>SibSp</th>\n",
       "      <th>Parch</th>\n",
       "      <th>Fare</th>\n",
       "      <th>Embarked</th>\n",
       "      <th>Survived</th>\n",
       "    </tr>\n",
       "  </thead>\n",
       "  <tbody>\n",
       "    <tr>\n",
       "      <th>0</th>\n",
       "      <td>3</td>\n",
       "      <td>1</td>\n",
       "      <td>35.000000</td>\n",
       "      <td>0</td>\n",
       "      <td>0</td>\n",
       "      <td>7.0500</td>\n",
       "      <td>0</td>\n",
       "      <td>0</td>\n",
       "    </tr>\n",
       "    <tr>\n",
       "      <th>1</th>\n",
       "      <td>3</td>\n",
       "      <td>1</td>\n",
       "      <td>30.000000</td>\n",
       "      <td>0</td>\n",
       "      <td>0</td>\n",
       "      <td>7.2500</td>\n",
       "      <td>0</td>\n",
       "      <td>0</td>\n",
       "    </tr>\n",
       "    <tr>\n",
       "      <th>2</th>\n",
       "      <td>3</td>\n",
       "      <td>1</td>\n",
       "      <td>29.699118</td>\n",
       "      <td>0</td>\n",
       "      <td>0</td>\n",
       "      <td>14.5000</td>\n",
       "      <td>0</td>\n",
       "      <td>0</td>\n",
       "    </tr>\n",
       "    <tr>\n",
       "      <th>3</th>\n",
       "      <td>3</td>\n",
       "      <td>0</td>\n",
       "      <td>21.000000</td>\n",
       "      <td>0</td>\n",
       "      <td>0</td>\n",
       "      <td>7.7500</td>\n",
       "      <td>2</td>\n",
       "      <td>0</td>\n",
       "    </tr>\n",
       "    <tr>\n",
       "      <th>4</th>\n",
       "      <td>3</td>\n",
       "      <td>1</td>\n",
       "      <td>32.000000</td>\n",
       "      <td>0</td>\n",
       "      <td>0</td>\n",
       "      <td>56.4958</td>\n",
       "      <td>0</td>\n",
       "      <td>1</td>\n",
       "    </tr>\n",
       "  </tbody>\n",
       "</table>\n",
       "</div>"
      ],
      "text/plain": [
       "   Pclass  Sex        Age  SibSp  Parch     Fare  Embarked  Survived\n",
       "0       3    1  35.000000      0      0   7.0500         0         0\n",
       "1       3    1  30.000000      0      0   7.2500         0         0\n",
       "2       3    1  29.699118      0      0  14.5000         0         0\n",
       "3       3    0  21.000000      0      0   7.7500         2         0\n",
       "4       3    1  32.000000      0      0  56.4958         0         1"
      ]
     },
     "execution_count": 8,
     "metadata": {},
     "output_type": "execute_result"
    }
   ],
   "source": [
    "print(f\"The dimensions of the data frame are: rows = {titanicTest_df.shape[0]}, columns = {titanicTest_df.shape[1]}\")\n",
    "titanicTest_df.head()"
   ]
  },
  {
   "cell_type": "markdown",
   "id": "63a0a8b7",
   "metadata": {},
   "source": [
    "**Statistical information of test dataset**"
   ]
  },
  {
   "cell_type": "code",
   "execution_count": 9,
   "id": "f675871f",
   "metadata": {},
   "outputs": [
    {
     "data": {
      "text/html": [
       "<div>\n",
       "<style scoped>\n",
       "    .dataframe tbody tr th:only-of-type {\n",
       "        vertical-align: middle;\n",
       "    }\n",
       "\n",
       "    .dataframe tbody tr th {\n",
       "        vertical-align: top;\n",
       "    }\n",
       "\n",
       "    .dataframe thead th {\n",
       "        text-align: right;\n",
       "    }\n",
       "</style>\n",
       "<table border=\"1\" class=\"dataframe\">\n",
       "  <thead>\n",
       "    <tr style=\"text-align: right;\">\n",
       "      <th></th>\n",
       "      <th>Pclass</th>\n",
       "      <th>Sex</th>\n",
       "      <th>Age</th>\n",
       "      <th>SibSp</th>\n",
       "      <th>Parch</th>\n",
       "      <th>Fare</th>\n",
       "      <th>Embarked</th>\n",
       "      <th>Survived</th>\n",
       "    </tr>\n",
       "  </thead>\n",
       "  <tbody>\n",
       "    <tr>\n",
       "      <th>count</th>\n",
       "      <td>179.000000</td>\n",
       "      <td>179.000000</td>\n",
       "      <td>179.000000</td>\n",
       "      <td>179.000000</td>\n",
       "      <td>179.000000</td>\n",
       "      <td>179.000000</td>\n",
       "      <td>179.000000</td>\n",
       "      <td>179.000000</td>\n",
       "    </tr>\n",
       "    <tr>\n",
       "      <th>mean</th>\n",
       "      <td>2.363128</td>\n",
       "      <td>0.675978</td>\n",
       "      <td>30.366983</td>\n",
       "      <td>0.502793</td>\n",
       "      <td>0.368715</td>\n",
       "      <td>31.507239</td>\n",
       "      <td>0.351955</td>\n",
       "      <td>0.340782</td>\n",
       "    </tr>\n",
       "    <tr>\n",
       "      <th>std</th>\n",
       "      <td>0.812116</td>\n",
       "      <td>0.469321</td>\n",
       "      <td>12.246691</td>\n",
       "      <td>1.278053</td>\n",
       "      <td>0.819923</td>\n",
       "      <td>49.254330</td>\n",
       "      <td>0.639640</td>\n",
       "      <td>0.475302</td>\n",
       "    </tr>\n",
       "    <tr>\n",
       "      <th>min</th>\n",
       "      <td>1.000000</td>\n",
       "      <td>0.000000</td>\n",
       "      <td>0.420000</td>\n",
       "      <td>0.000000</td>\n",
       "      <td>0.000000</td>\n",
       "      <td>0.000000</td>\n",
       "      <td>0.000000</td>\n",
       "      <td>0.000000</td>\n",
       "    </tr>\n",
       "    <tr>\n",
       "      <th>25%</th>\n",
       "      <td>2.000000</td>\n",
       "      <td>0.000000</td>\n",
       "      <td>24.000000</td>\n",
       "      <td>0.000000</td>\n",
       "      <td>0.000000</td>\n",
       "      <td>7.895800</td>\n",
       "      <td>0.000000</td>\n",
       "      <td>0.000000</td>\n",
       "    </tr>\n",
       "    <tr>\n",
       "      <th>50%</th>\n",
       "      <td>3.000000</td>\n",
       "      <td>1.000000</td>\n",
       "      <td>29.699118</td>\n",
       "      <td>0.000000</td>\n",
       "      <td>0.000000</td>\n",
       "      <td>12.000000</td>\n",
       "      <td>0.000000</td>\n",
       "      <td>0.000000</td>\n",
       "    </tr>\n",
       "    <tr>\n",
       "      <th>75%</th>\n",
       "      <td>3.000000</td>\n",
       "      <td>1.000000</td>\n",
       "      <td>36.000000</td>\n",
       "      <td>1.000000</td>\n",
       "      <td>0.000000</td>\n",
       "      <td>27.825000</td>\n",
       "      <td>1.000000</td>\n",
       "      <td>1.000000</td>\n",
       "    </tr>\n",
       "    <tr>\n",
       "      <th>max</th>\n",
       "      <td>3.000000</td>\n",
       "      <td>1.000000</td>\n",
       "      <td>71.000000</td>\n",
       "      <td>8.000000</td>\n",
       "      <td>5.000000</td>\n",
       "      <td>263.000000</td>\n",
       "      <td>3.000000</td>\n",
       "      <td>1.000000</td>\n",
       "    </tr>\n",
       "  </tbody>\n",
       "</table>\n",
       "</div>"
      ],
      "text/plain": [
       "           Pclass         Sex         Age       SibSp       Parch        Fare  \\\n",
       "count  179.000000  179.000000  179.000000  179.000000  179.000000  179.000000   \n",
       "mean     2.363128    0.675978   30.366983    0.502793    0.368715   31.507239   \n",
       "std      0.812116    0.469321   12.246691    1.278053    0.819923   49.254330   \n",
       "min      1.000000    0.000000    0.420000    0.000000    0.000000    0.000000   \n",
       "25%      2.000000    0.000000   24.000000    0.000000    0.000000    7.895800   \n",
       "50%      3.000000    1.000000   29.699118    0.000000    0.000000   12.000000   \n",
       "75%      3.000000    1.000000   36.000000    1.000000    0.000000   27.825000   \n",
       "max      3.000000    1.000000   71.000000    8.000000    5.000000  263.000000   \n",
       "\n",
       "         Embarked    Survived  \n",
       "count  179.000000  179.000000  \n",
       "mean     0.351955    0.340782  \n",
       "std      0.639640    0.475302  \n",
       "min      0.000000    0.000000  \n",
       "25%      0.000000    0.000000  \n",
       "50%      0.000000    0.000000  \n",
       "75%      1.000000    1.000000  \n",
       "max      3.000000    1.000000  "
      ]
     },
     "execution_count": 9,
     "metadata": {},
     "output_type": "execute_result"
    }
   ],
   "source": [
    "titanicTest_df.describe()"
   ]
  },
  {
   "cell_type": "markdown",
   "id": "dfd54d8e",
   "metadata": {},
   "source": [
    "**Displaying the information & type of test dataset**"
   ]
  },
  {
   "cell_type": "code",
   "execution_count": 10,
   "id": "a19c7245",
   "metadata": {},
   "outputs": [
    {
     "name": "stdout",
     "output_type": "stream",
     "text": [
      "<class 'pandas.core.frame.DataFrame'>\n",
      "RangeIndex: 179 entries, 0 to 178\n",
      "Data columns (total 8 columns):\n",
      " #   Column    Non-Null Count  Dtype  \n",
      "---  ------    --------------  -----  \n",
      " 0   Pclass    179 non-null    int64  \n",
      " 1   Sex       179 non-null    int64  \n",
      " 2   Age       179 non-null    float64\n",
      " 3   SibSp     179 non-null    int64  \n",
      " 4   Parch     179 non-null    int64  \n",
      " 5   Fare      179 non-null    float64\n",
      " 6   Embarked  179 non-null    int64  \n",
      " 7   Survived  179 non-null    int64  \n",
      "dtypes: float64(2), int64(6)\n",
      "memory usage: 11.3 KB\n"
     ]
    }
   ],
   "source": [
    "titanicTest_df.info()"
   ]
  },
  {
   "cell_type": "markdown",
   "id": "dd0ca141",
   "metadata": {},
   "source": [
    "#  Data Cleasning:\n",
    "**For the train data set**\n",
    "1. Missing data.\n",
    "2. Duplications.\n",
    "3. Outlier detection."
   ]
  },
  {
   "cell_type": "markdown",
   "id": "861a2ebf",
   "metadata": {},
   "source": [
    "# 1. Missing data\n",
    "**Fill missing data with average values**"
   ]
  },
  {
   "cell_type": "code",
   "execution_count": 11,
   "id": "a6212dd8",
   "metadata": {},
   "outputs": [
    {
     "name": "stdout",
     "output_type": "stream",
     "text": [
      "Pclass      0\n",
      "Sex         0\n",
      "Age         0\n",
      "SibSp       0\n",
      "Parch       0\n",
      "Fare        0\n",
      "Embarked    0\n",
      "Survived    0\n",
      "dtype: int64\n",
      "There is 0 missing information\n"
     ]
    }
   ],
   "source": [
    "# Cheking for missing data.\n",
    "missing_data = titanicTrain_df.isnull().sum()\n",
    "numOfNissing = missing_data.sum()\n",
    "if missing_data.sum() == 0: # if non is missinng\n",
    "    print(missing_data)\n",
    "    print(f\"There is {numOfNissing} missing information\")\n",
    "else: # fill missing data with average values\n",
    "    print(f\"There is {numOfNissing} missing information before filling\")\n",
    "    titanicTrain_df.fillna(titanicTrain_df.mean(), inplace=True)\n",
    "    print(f\"There is {numOfNissing} missing information after filling\")\n",
    "    print(missing_data)"
   ]
  },
  {
   "cell_type": "markdown",
   "id": "8bd9bc5c",
   "metadata": {},
   "source": [
    "# 2.Duplications\n",
    "**Removing duplicate rows if any**"
   ]
  },
  {
   "cell_type": "code",
   "execution_count": 12,
   "id": "946e5a9c",
   "metadata": {},
   "outputs": [
    {
     "name": "stdout",
     "output_type": "stream",
     "text": [
      "Number of duplicate rows: 80\n",
      "Number of rows in train data frame: 712\n",
      "Number of rows in train data frame after removing duplicates is: 632\n"
     ]
    }
   ],
   "source": [
    "# Cheking for duplicate.\n",
    "duplicates = titanicTrain_df.duplicated()\n",
    "print(\"Number of duplicate rows:\", duplicates.sum())\n",
    "# Removing duplicate rows if any\n",
    "if duplicates.sum() != 0:\n",
    "    numOfrows_train = titanicTrain_df.shape[0]\n",
    "    print(f\"Number of rows in train data frame: {numOfrows_train}\")\n",
    "\n",
    "    titanicTrain_df.drop_duplicates(keep='first', inplace=True)\n",
    "    titanicTrain_df = titanicTrain_df.reset_index(drop=True) # Reset indexing\n",
    "    numOfrows_train = titanicTrain_df.shape[0]\n",
    "\n",
    "    print(f\"Number of rows in train data frame after removing duplicates is: {numOfrows_train}\")\n",
    "else:\n",
    "    print('There are no duplicated rows')"
   ]
  },
  {
   "cell_type": "markdown",
   "id": "2056aee5",
   "metadata": {},
   "source": [
    "# 3. Outlier Detection.  "
   ]
  },
  {
   "cell_type": "markdown",
   "id": "9ff51f42",
   "metadata": {},
   "source": [
    "**Anomaly detection using IQR**"
   ]
  },
  {
   "cell_type": "code",
   "execution_count": 13,
   "id": "c7b47878",
   "metadata": {},
   "outputs": [
    {
     "name": "stdout",
     "output_type": "stream",
     "text": [
      "The number of dataced outliers is: 150\n",
      "Here is the outliers info:\n",
      " Pclass       0\n",
      "Sex          0\n",
      "Age         25\n",
      "SibSp       34\n",
      "Parch       12\n",
      "Fare        78\n",
      "Embarked     1\n",
      "Survived     0\n",
      "dtype: int64\n",
      "Removal of outliers is needed\n",
      "\n",
      "Checking that the anomalys have been removed\n",
      "\n",
      "The number of dataced outliers after removal is: 0\n",
      "Here is the outliers info after removal:\n",
      " Pclass      0\n",
      "Sex         0\n",
      "Age         0\n",
      "SibSp       0\n",
      "Parch       0\n",
      "Fare        0\n",
      "Embarked    0\n",
      "Survived    0\n",
      "dtype: int64\n",
      "Number of rows in train data frame after removing anomalys is: 491\n"
     ]
    }
   ],
   "source": [
    "Q1 = titanicTrain_df.quantile(0.25)\n",
    "Q3 = titanicTrain_df.quantile(0.75)\n",
    "IQR = Q3 - Q1\n",
    "\n",
    "outliers = ((titanicTrain_df < (Q1 - 1.5 * IQR)) | (titanicTrain_df > (Q3 + 1.5 * IQR))).sum()\n",
    "if outliers.sum() != 0: # Cheking for outliers\n",
    "    print(f\"The number of dataced outliers is: {outliers.sum()}\")\n",
    "    print(\"Here is the outliers info:\\n\", outliers)\n",
    "    print(\"Removal of outliers is needed\\n\")\n",
    "    titanicTrain_df = titanicTrain_df[~((titanicTrain_df < (Q1 - 1.5 * IQR)) | (titanicTrain_df > (Q3 + 1.5 * IQR))).any(axis=1)]\n",
    "    titanicTrain_df = titanicTrain_df.reset_index(drop=True) # Reset indexing\n",
    "    print(\"Checking that the anomalys have been removed\\n\")\n",
    "    outliers = ((titanicTrain_df < (Q1 - 1.5 * IQR)) | (titanicTrain_df > (Q3 + 1.5 * IQR))).sum()\n",
    "    print(f\"The number of dataced outliers after removal is: {outliers.sum()}\")\n",
    "    print(\"Here is the outliers info after removal:\\n\", outliers)\n",
    "    numOfrows_train = titanicTrain_df.shape[0]\n",
    "    print(f\"Number of rows in train data frame after removing anomalys is: {numOfrows_train}\")\n",
    "else: # There are no anomalys\n",
    "    print(f\"The number of dataced outliers is: {outliers.sum()}\")\n",
    "    print(\"Here is the outliers info:\\n\", outliers)\n",
    "   "
   ]
  },
  {
   "cell_type": "markdown",
   "id": "4aba7775",
   "metadata": {},
   "source": [
    "We can see that there are no more anomalys"
   ]
  },
  {
   "cell_type": "markdown",
   "id": "b7c14cc0",
   "metadata": {},
   "source": [
    "# EDA \n",
    "**presenting statistics and visualizations on the data**"
   ]
  },
  {
   "cell_type": "code",
   "execution_count": 14,
   "id": "7acfd5cb",
   "metadata": {
    "scrolled": true
   },
   "outputs": [
    {
     "data": {
      "text/plain": [
       "<Figure size 1000x600 with 0 Axes>"
      ]
     },
     "execution_count": 14,
     "metadata": {},
     "output_type": "execute_result"
    },
    {
     "data": {
      "text/plain": [
       "<AxesSubplot:>"
      ]
     },
     "execution_count": 14,
     "metadata": {},
     "output_type": "execute_result"
    },
    {
     "data": {
      "text/plain": [
       "<AxesSubplot:xlabel='Sex', ylabel='Survived'>"
      ]
     },
     "execution_count": 14,
     "metadata": {},
     "output_type": "execute_result"
    },
    {
     "data": {
      "text/plain": [
       "Text(0.5, 1.0, 'Survival Rate by Sex')"
      ]
     },
     "execution_count": 14,
     "metadata": {},
     "output_type": "execute_result"
    },
    {
     "data": {
      "text/plain": [
       "<AxesSubplot:>"
      ]
     },
     "execution_count": 14,
     "metadata": {},
     "output_type": "execute_result"
    },
    {
     "data": {
      "text/plain": [
       "<AxesSubplot:xlabel='Pclass', ylabel='Survived'>"
      ]
     },
     "execution_count": 14,
     "metadata": {},
     "output_type": "execute_result"
    },
    {
     "data": {
      "text/plain": [
       "Text(0.5, 1.0, 'Survival Rate by Pclass')"
      ]
     },
     "execution_count": 14,
     "metadata": {},
     "output_type": "execute_result"
    },
    {
     "data": {
      "text/plain": [
       "<AxesSubplot:>"
      ]
     },
     "execution_count": 14,
     "metadata": {},
     "output_type": "execute_result"
    },
    {
     "data": {
      "text/plain": [
       "<AxesSubplot:xlabel='Age', ylabel='Count'>"
      ]
     },
     "execution_count": 14,
     "metadata": {},
     "output_type": "execute_result"
    },
    {
     "data": {
      "text/plain": [
       "<AxesSubplot:xlabel='Age', ylabel='Count'>"
      ]
     },
     "execution_count": 14,
     "metadata": {},
     "output_type": "execute_result"
    },
    {
     "data": {
      "text/plain": [
       "Text(0.5, 1.0, 'Age Distribution by Survival')"
      ]
     },
     "execution_count": 14,
     "metadata": {},
     "output_type": "execute_result"
    },
    {
     "data": {
      "text/plain": [
       "<matplotlib.legend.Legend at 0x1e076cd1580>"
      ]
     },
     "execution_count": 14,
     "metadata": {},
     "output_type": "execute_result"
    },
    {
     "data": {
      "text/plain": [
       "<AxesSubplot:>"
      ]
     },
     "execution_count": 14,
     "metadata": {},
     "output_type": "execute_result"
    },
    {
     "data": {
      "text/plain": [
       "<AxesSubplot:xlabel='Survived', ylabel='Fare'>"
      ]
     },
     "execution_count": 14,
     "metadata": {},
     "output_type": "execute_result"
    },
    {
     "data": {
      "text/plain": [
       "Text(0.5, 1.0, 'Fare Distribution by Survival')"
      ]
     },
     "execution_count": 14,
     "metadata": {},
     "output_type": "execute_result"
    },
    {
     "data": {
      "image/png": "[encoded data removed]",
      "text/plain": [
       "<Figure size 1000x600 with 4 Axes>"
      ]
     },
     "metadata": {},
     "output_type": "display_data"
    }
   ],
   "source": [
    "# Survival Rates by Sex, Pclass, Age, and Family Size\n",
    "plt.figure(figsize=(10, 6))\n",
    "\n",
    "plt.subplot(2, 2, 1)\n",
    "sns.barplot(x='Sex', y='Survived', data=titanicTrain_df)\n",
    "plt.title('Survival Rate by Sex')\n",
    "\n",
    "plt.subplot(2, 2, 2)\n",
    "sns.barplot(x='Pclass', y='Survived', data=titanicTrain_df)\n",
    "plt.title('Survival Rate by Pclass')\n",
    "\n",
    "plt.subplot(2, 2, 3)\n",
    "sns.histplot(titanicTrain_df[titanicTrain_df['Survived'] == 1]['Age'], kde=True, color='green', label='Survived')\n",
    "sns.histplot(titanicTrain_df[titanicTrain_df['Survived'] == 0]['Age'], kde=True, color='red', label='Did Not Survive')\n",
    "plt.title('Age Distribution by Survival')\n",
    "plt.legend()\n",
    "\n",
    "plt.subplot(2, 2, 4)\n",
    "sns.boxplot(x='Survived', y='Fare', data=titanicTrain_df)\n",
    "plt.title('Fare Distribution by Survival')\n",
    "\n",
    "plt.tight_layout()\n",
    "plt.show()\n"
   ]
  },
  {
   "cell_type": "code",
   "execution_count": 15,
   "id": "89130474",
   "metadata": {},
   "outputs": [
    {
     "data": {
      "text/plain": [
       "<seaborn.axisgrid.FacetGrid at 0x1e0764b5550>"
      ]
     },
     "execution_count": 15,
     "metadata": {},
     "output_type": "execute_result"
    },
    {
     "data": {
      "text/plain": [
       "Text(0.5, 1.0, 'Survival by Age and Pclass')"
      ]
     },
     "execution_count": 15,
     "metadata": {},
     "output_type": "execute_result"
    },
    {
     "data": {
      "image/png": "[encoded data removed]",
      "text/plain": [
       "<Figure size 558.875x500 with 1 Axes>"
      ]
     },
     "metadata": {},
     "output_type": "display_data"
    }
   ],
   "source": [
    "# Advanced Visualization: Survival Curves\n",
    "sns.lmplot(x='Age', y='Survived', hue='Pclass', data=titanicTrain_df, logistic=True)\n",
    "plt.title('Survival by Age and Pclass')\n",
    "plt.show()\n"
   ]
  },
  {
   "cell_type": "markdown",
   "id": "a663ad44",
   "metadata": {},
   "source": [
    "# Preprocessing:\n",
    "**This step will inclue:**\n",
    "1. Feature Engineering. \n",
    "2. Feature Selection.\n",
    "2. PCA - for dimensional reduction.\n",
    "**note: Our preprocessing designed for the machine learning to be inclusive and not over-fitting**"
   ]
  },
  {
   "cell_type": "markdown",
   "id": "b38e15fd",
   "metadata": {},
   "source": [
    "# Feature selection "
   ]
  },
  {
   "cell_type": "markdown",
   "id": "a3dd1c46",
   "metadata": {},
   "source": [
    "**Step 1 - Calculate the Correlation Matrix & display Heat map**"
   ]
  },
  {
   "cell_type": "code",
   "execution_count": 16,
   "id": "f28cf06a",
   "metadata": {},
   "outputs": [
    {
     "data": {
      "text/plain": [
       "<Figure size 800x600 with 0 Axes>"
      ]
     },
     "execution_count": 16,
     "metadata": {},
     "output_type": "execute_result"
    },
    {
     "data": {
      "text/plain": [
       "<AxesSubplot:>"
      ]
     },
     "execution_count": 16,
     "metadata": {},
     "output_type": "execute_result"
    },
    {
     "data": {
      "text/plain": [
       "Text(0.5, 1.0, 'Correlation Heatmap (Bottom Half Only)')"
      ]
     },
     "execution_count": 16,
     "metadata": {},
     "output_type": "execute_result"
    },
    {
     "data": {
      "image/png": "[encoded data removed]",
      "text/plain": [
       "<Figure size 800x600 with 2 Axes>"
      ]
     },
     "metadata": {},
     "output_type": "display_data"
    }
   ],
   "source": [
    "# Compute the correlation matrix\n",
    "corr_matrix = titanicTrain_df.corr()\n",
    "\n",
    "# Set up the matplotlib figure\n",
    "plt.figure(figsize=(8, 6))\n",
    "\n",
    "mask = np.triu(np.ones_like(corr_matrix, dtype=bool))\n",
    "\n",
    "# Create a heatmap with only the lower triangle shown\n",
    "sns.heatmap(\n",
    "    corr_matrix,\n",
    "    mask=mask,  # Apply the mask to hide the upper triangle\n",
    "    annot=True,  # Annotate each cell with the correlation value\n",
    "    cmap='coolwarm',  # Colormap to distinguish positive and negative values\n",
    "    center=0,  # Center the colormap around 0\n",
    "    square=True,  # Keep the cells square-shaped\n",
    "    linewidths=0.5,  # Optional: Add lines between cells for clarity\n",
    "    cbar_kws={\"shrink\": 0.75}  # Optional: Adjust color bar size\n",
    ")\n",
    "\n",
    "# Display the plot\n",
    "plt.title('Correlation Heatmap (Bottom Half Only)')\n",
    "plt.show()\n"
   ]
  },
  {
   "cell_type": "markdown",
   "id": "fd8d3b48",
   "metadata": {},
   "source": [
    "**Step 2 - Extract High and Low Correlation Pairs, each feature to target**"
   ]
  },
  {
   "cell_type": "code",
   "execution_count": 17,
   "id": "2ce9e30d",
   "metadata": {},
   "outputs": [
    {
     "name": "stdout",
     "output_type": "stream",
     "text": [
      "Correlations with Target Column:\n",
      "Survived    1.000000\n",
      "Fare        0.247703\n",
      "Parch       0.214076\n",
      "SibSp       0.092558\n",
      "Embarked    0.065814\n",
      "Age        -0.165207\n",
      "Pclass     -0.245912\n",
      "Sex        -0.493752\n",
      "Name: Survived, dtype: float64\n",
      "\n",
      "High Correlation Features:\n",
      "Survived    1.000000\n",
      "Sex        -0.493752\n",
      "Name: Survived, dtype: float64\n",
      "\n",
      "Low Correlation Features:\n",
      "SibSp       0.092558\n",
      "Embarked    0.065814\n",
      "Name: Survived, dtype: float64\n"
     ]
    }
   ],
   "source": [
    "# Calculate correlations of each feature with the target\n",
    "target_col = 'Survived'\n",
    "correlations = titanicTrain_df.corr()[target_col].sort_values(ascending=False)\n",
    "\n",
    "# Display the correlations\n",
    "print(\"Correlations with Target Column:\")\n",
    "print(correlations)\n",
    "\n",
    "# Optionally, filter high positive or negative correlations\n",
    "high_threshold = 0.25  # Adjust as needed\n",
    "low_threshold = 0.1\n",
    "\n",
    "# High correlations (positive or negative)\n",
    "high_corr = correlations[(correlations > high_threshold) | (correlations < -high_threshold)]\n",
    "print(\"\\nHigh Correlation Features:\")\n",
    "print(high_corr)\n",
    "\n",
    "# Low correlations (near zero)\n",
    "low_corr = correlations[(correlations > -low_threshold) & (correlations < low_threshold)]\n",
    "print(\"\\nLow Correlation Features:\")\n",
    "print(low_corr)\n"
   ]
  },
  {
   "cell_type": "markdown",
   "id": "3b85310b",
   "metadata": {},
   "source": [
    "**Displaying the result in an abstruct visual to understand**"
   ]
  },
  {
   "cell_type": "code",
   "execution_count": 18,
   "id": "2786a8d9",
   "metadata": {
    "scrolled": false
   },
   "outputs": [
    {
     "data": {
      "text/plain": [
       "<Figure size 1000x600 with 0 Axes>"
      ]
     },
     "execution_count": 18,
     "metadata": {},
     "output_type": "execute_result"
    },
    {
     "data": {
      "text/plain": [
       "<AxesSubplot:>"
      ]
     },
     "execution_count": 18,
     "metadata": {},
     "output_type": "execute_result"
    },
    {
     "data": {
      "text/plain": [
       "Text(0.5, 1.0, 'Feature Correlations with Target Variable')"
      ]
     },
     "execution_count": 18,
     "metadata": {},
     "output_type": "execute_result"
    },
    {
     "data": {
      "text/plain": [
       "Text(0.5, 0, 'Correlation Coefficient')"
      ]
     },
     "execution_count": 18,
     "metadata": {},
     "output_type": "execute_result"
    },
    {
     "data": {
      "text/plain": [
       "Text(0, 0.5, 'Features')"
      ]
     },
     "execution_count": 18,
     "metadata": {},
     "output_type": "execute_result"
    },
    {
     "data": {
      "text/plain": [
       "<matplotlib.lines.Line2D at 0x1e076e7a670>"
      ]
     },
     "execution_count": 18,
     "metadata": {},
     "output_type": "execute_result"
    },
    {
     "data": {
      "image/png": "[encoded data removed]",
      "text/plain": [
       "<Figure size 1000x600 with 1 Axes>"
      ]
     },
     "metadata": {},
     "output_type": "display_data"
    }
   ],
   "source": [
    "# Bar plot for correlations\n",
    "plt.figure(figsize=(10, 6))\n",
    "sns.barplot(x=correlations.values, y=correlations.index, palette='coolwarm')\n",
    "plt.title('Feature Correlations with Target Variable')\n",
    "plt.xlabel('Correlation Coefficient')\n",
    "plt.ylabel('Features')\n",
    "plt.axvline(0, color='gray', linestyle='--')  # Line at 0 for reference\n",
    "plt.show()"
   ]
  },
  {
   "cell_type": "markdown",
   "id": "a932ee05",
   "metadata": {},
   "source": [
    "**We can see that the features SibSp & Embarked\n",
    "with low linear corrolation to Survived\n",
    "thus we will drop thos features from our datasets train & test**"
   ]
  },
  {
   "cell_type": "markdown",
   "id": "b347ffe5",
   "metadata": {},
   "source": [
    "**Step 3 - Droping SibSp & Embarked features from our train dataset & test data set**"
   ]
  },
  {
   "cell_type": "code",
   "execution_count": 19,
   "id": "61830051",
   "metadata": {},
   "outputs": [
    {
     "name": "stdout",
     "output_type": "stream",
     "text": [
      "The dimensions of the Train data frame before Feture Selection are: rows = 179, columns = 8\n"
     ]
    },
    {
     "data": {
      "text/html": [
       "<div>\n",
       "<style scoped>\n",
       "    .dataframe tbody tr th:only-of-type {\n",
       "        vertical-align: middle;\n",
       "    }\n",
       "\n",
       "    .dataframe tbody tr th {\n",
       "        vertical-align: top;\n",
       "    }\n",
       "\n",
       "    .dataframe thead th {\n",
       "        text-align: right;\n",
       "    }\n",
       "</style>\n",
       "<table border=\"1\" class=\"dataframe\">\n",
       "  <thead>\n",
       "    <tr style=\"text-align: right;\">\n",
       "      <th></th>\n",
       "      <th>Pclass</th>\n",
       "      <th>Sex</th>\n",
       "      <th>Age</th>\n",
       "      <th>SibSp</th>\n",
       "      <th>Parch</th>\n",
       "      <th>Fare</th>\n",
       "      <th>Embarked</th>\n",
       "      <th>Survived</th>\n",
       "    </tr>\n",
       "  </thead>\n",
       "  <tbody>\n",
       "    <tr>\n",
       "      <th>0</th>\n",
       "      <td>2</td>\n",
       "      <td>0</td>\n",
       "      <td>45.000000</td>\n",
       "      <td>0</td>\n",
       "      <td>0</td>\n",
       "      <td>13.5000</td>\n",
       "      <td>0</td>\n",
       "      <td>1</td>\n",
       "    </tr>\n",
       "    <tr>\n",
       "      <th>1</th>\n",
       "      <td>3</td>\n",
       "      <td>1</td>\n",
       "      <td>20.000000</td>\n",
       "      <td>0</td>\n",
       "      <td>0</td>\n",
       "      <td>9.5000</td>\n",
       "      <td>0</td>\n",
       "      <td>0</td>\n",
       "    </tr>\n",
       "    <tr>\n",
       "      <th>2</th>\n",
       "      <td>3</td>\n",
       "      <td>1</td>\n",
       "      <td>36.000000</td>\n",
       "      <td>0</td>\n",
       "      <td>0</td>\n",
       "      <td>7.8958</td>\n",
       "      <td>0</td>\n",
       "      <td>0</td>\n",
       "    </tr>\n",
       "    <tr>\n",
       "      <th>3</th>\n",
       "      <td>3</td>\n",
       "      <td>1</td>\n",
       "      <td>22.000000</td>\n",
       "      <td>0</td>\n",
       "      <td>0</td>\n",
       "      <td>8.0500</td>\n",
       "      <td>0</td>\n",
       "      <td>0</td>\n",
       "    </tr>\n",
       "    <tr>\n",
       "      <th>4</th>\n",
       "      <td>3</td>\n",
       "      <td>1</td>\n",
       "      <td>29.699118</td>\n",
       "      <td>0</td>\n",
       "      <td>0</td>\n",
       "      <td>7.2500</td>\n",
       "      <td>0</td>\n",
       "      <td>0</td>\n",
       "    </tr>\n",
       "  </tbody>\n",
       "</table>\n",
       "</div>"
      ],
      "text/plain": [
       "   Pclass  Sex        Age  SibSp  Parch     Fare  Embarked  Survived\n",
       "0       2    0  45.000000      0      0  13.5000         0         1\n",
       "1       3    1  20.000000      0      0   9.5000         0         0\n",
       "2       3    1  36.000000      0      0   7.8958         0         0\n",
       "3       3    1  22.000000      0      0   8.0500         0         0\n",
       "4       3    1  29.699118      0      0   7.2500         0         0"
      ]
     },
     "execution_count": 19,
     "metadata": {},
     "output_type": "execute_result"
    },
    {
     "name": "stdout",
     "output_type": "stream",
     "text": [
      "Number of columns before Feature Selection is: 8\n",
      "Number of Features before Feature Selection is: 7\n",
      "\n",
      "\n",
      "The dimensions of the Train data frame after Feture Selection are: rows = 491, columns = 6\n"
     ]
    },
    {
     "data": {
      "text/html": [
       "<div>\n",
       "<style scoped>\n",
       "    .dataframe tbody tr th:only-of-type {\n",
       "        vertical-align: middle;\n",
       "    }\n",
       "\n",
       "    .dataframe tbody tr th {\n",
       "        vertical-align: top;\n",
       "    }\n",
       "\n",
       "    .dataframe thead th {\n",
       "        text-align: right;\n",
       "    }\n",
       "</style>\n",
       "<table border=\"1\" class=\"dataframe\">\n",
       "  <thead>\n",
       "    <tr style=\"text-align: right;\">\n",
       "      <th></th>\n",
       "      <th>Pclass</th>\n",
       "      <th>Sex</th>\n",
       "      <th>Age</th>\n",
       "      <th>Parch</th>\n",
       "      <th>Fare</th>\n",
       "      <th>Survived</th>\n",
       "    </tr>\n",
       "  </thead>\n",
       "  <tbody>\n",
       "    <tr>\n",
       "      <th>0</th>\n",
       "      <td>2</td>\n",
       "      <td>0</td>\n",
       "      <td>45.000000</td>\n",
       "      <td>0</td>\n",
       "      <td>13.5000</td>\n",
       "      <td>1</td>\n",
       "    </tr>\n",
       "    <tr>\n",
       "      <th>1</th>\n",
       "      <td>3</td>\n",
       "      <td>1</td>\n",
       "      <td>20.000000</td>\n",
       "      <td>0</td>\n",
       "      <td>9.5000</td>\n",
       "      <td>0</td>\n",
       "    </tr>\n",
       "    <tr>\n",
       "      <th>2</th>\n",
       "      <td>3</td>\n",
       "      <td>1</td>\n",
       "      <td>36.000000</td>\n",
       "      <td>0</td>\n",
       "      <td>7.8958</td>\n",
       "      <td>0</td>\n",
       "    </tr>\n",
       "    <tr>\n",
       "      <th>3</th>\n",
       "      <td>3</td>\n",
       "      <td>1</td>\n",
       "      <td>22.000000</td>\n",
       "      <td>0</td>\n",
       "      <td>8.0500</td>\n",
       "      <td>0</td>\n",
       "    </tr>\n",
       "    <tr>\n",
       "      <th>4</th>\n",
       "      <td>3</td>\n",
       "      <td>1</td>\n",
       "      <td>29.699118</td>\n",
       "      <td>0</td>\n",
       "      <td>7.2500</td>\n",
       "      <td>0</td>\n",
       "    </tr>\n",
       "  </tbody>\n",
       "</table>\n",
       "</div>"
      ],
      "text/plain": [
       "   Pclass  Sex        Age  Parch     Fare  Survived\n",
       "0       2    0  45.000000      0  13.5000         1\n",
       "1       3    1  20.000000      0   9.5000         0\n",
       "2       3    1  36.000000      0   7.8958         0\n",
       "3       3    1  22.000000      0   8.0500         0\n",
       "4       3    1  29.699118      0   7.2500         0"
      ]
     },
     "execution_count": 19,
     "metadata": {},
     "output_type": "execute_result"
    },
    {
     "name": "stdout",
     "output_type": "stream",
     "text": [
      "Number of columns after Feature Selection is: 6\n",
      "Number of Features after Feature Selection is: 5\n"
     ]
    }
   ],
   "source": [
    "# Making copy to preseve the the data without changes\n",
    "FS_train_df = titanicTrain_df.copy().drop(['SibSp','Embarked'],axis=1)\n",
    "print(f\"The dimensions of the Train data frame before Feture Selection are: rows = {titanicTest_df.shape[0]}, columns = {titanicTest_df.shape[1]}\")\n",
    "titanicTrain_df.head()\n",
    "print(f\"Number of columns before Feature Selection is: {titanicTrain_df.shape[1]}\")\n",
    "print(f\"Number of Features before Feature Selection is: {titanicTrain_df.shape[1]-1}\")\n",
    "print(\"\\n\")\n",
    "print(f\"The dimensions of the Train data frame after Feture Selection are: rows = {FS_train_df.shape[0]}, columns = {FS_train_df.shape[1]}\")\n",
    "FS_train_df.head()\n",
    "print(f\"Number of columns after Feature Selection is: {FS_train_df.shape[1]}\")\n",
    "print(f\"Number of Features after Feature Selection is: {FS_train_df.shape[1]-1}\")\n"
   ]
  },
  {
   "cell_type": "markdown",
   "id": "04638d2a",
   "metadata": {},
   "source": [
    "**Droping SibSp & Embarked features from our test dataset**"
   ]
  },
  {
   "cell_type": "code",
   "execution_count": 20,
   "id": "f4ff8ba8",
   "metadata": {},
   "outputs": [
    {
     "name": "stdout",
     "output_type": "stream",
     "text": [
      "The dimensions of the data frame before Feture Selection are: rows = 179, columns = 8\n"
     ]
    },
    {
     "data": {
      "text/html": [
       "<div>\n",
       "<style scoped>\n",
       "    .dataframe tbody tr th:only-of-type {\n",
       "        vertical-align: middle;\n",
       "    }\n",
       "\n",
       "    .dataframe tbody tr th {\n",
       "        vertical-align: top;\n",
       "    }\n",
       "\n",
       "    .dataframe thead th {\n",
       "        text-align: right;\n",
       "    }\n",
       "</style>\n",
       "<table border=\"1\" class=\"dataframe\">\n",
       "  <thead>\n",
       "    <tr style=\"text-align: right;\">\n",
       "      <th></th>\n",
       "      <th>Pclass</th>\n",
       "      <th>Sex</th>\n",
       "      <th>Age</th>\n",
       "      <th>SibSp</th>\n",
       "      <th>Parch</th>\n",
       "      <th>Fare</th>\n",
       "      <th>Embarked</th>\n",
       "      <th>Survived</th>\n",
       "    </tr>\n",
       "  </thead>\n",
       "  <tbody>\n",
       "    <tr>\n",
       "      <th>0</th>\n",
       "      <td>3</td>\n",
       "      <td>1</td>\n",
       "      <td>35.000000</td>\n",
       "      <td>0</td>\n",
       "      <td>0</td>\n",
       "      <td>7.0500</td>\n",
       "      <td>0</td>\n",
       "      <td>0</td>\n",
       "    </tr>\n",
       "    <tr>\n",
       "      <th>1</th>\n",
       "      <td>3</td>\n",
       "      <td>1</td>\n",
       "      <td>30.000000</td>\n",
       "      <td>0</td>\n",
       "      <td>0</td>\n",
       "      <td>7.2500</td>\n",
       "      <td>0</td>\n",
       "      <td>0</td>\n",
       "    </tr>\n",
       "    <tr>\n",
       "      <th>2</th>\n",
       "      <td>3</td>\n",
       "      <td>1</td>\n",
       "      <td>29.699118</td>\n",
       "      <td>0</td>\n",
       "      <td>0</td>\n",
       "      <td>14.5000</td>\n",
       "      <td>0</td>\n",
       "      <td>0</td>\n",
       "    </tr>\n",
       "    <tr>\n",
       "      <th>3</th>\n",
       "      <td>3</td>\n",
       "      <td>0</td>\n",
       "      <td>21.000000</td>\n",
       "      <td>0</td>\n",
       "      <td>0</td>\n",
       "      <td>7.7500</td>\n",
       "      <td>2</td>\n",
       "      <td>0</td>\n",
       "    </tr>\n",
       "    <tr>\n",
       "      <th>4</th>\n",
       "      <td>3</td>\n",
       "      <td>1</td>\n",
       "      <td>32.000000</td>\n",
       "      <td>0</td>\n",
       "      <td>0</td>\n",
       "      <td>56.4958</td>\n",
       "      <td>0</td>\n",
       "      <td>1</td>\n",
       "    </tr>\n",
       "  </tbody>\n",
       "</table>\n",
       "</div>"
      ],
      "text/plain": [
       "   Pclass  Sex        Age  SibSp  Parch     Fare  Embarked  Survived\n",
       "0       3    1  35.000000      0      0   7.0500         0         0\n",
       "1       3    1  30.000000      0      0   7.2500         0         0\n",
       "2       3    1  29.699118      0      0  14.5000         0         0\n",
       "3       3    0  21.000000      0      0   7.7500         2         0\n",
       "4       3    1  32.000000      0      0  56.4958         0         1"
      ]
     },
     "execution_count": 20,
     "metadata": {},
     "output_type": "execute_result"
    },
    {
     "name": "stdout",
     "output_type": "stream",
     "text": [
      "Number of columns before Feature Selection is: 8\n",
      "Number of Features before Feature Selection is: 7\n",
      "\n",
      "\n",
      "The dimensions of the data frame after Feture Selection are: rows = 179, columns = 6\n"
     ]
    },
    {
     "data": {
      "text/html": [
       "<div>\n",
       "<style scoped>\n",
       "    .dataframe tbody tr th:only-of-type {\n",
       "        vertical-align: middle;\n",
       "    }\n",
       "\n",
       "    .dataframe tbody tr th {\n",
       "        vertical-align: top;\n",
       "    }\n",
       "\n",
       "    .dataframe thead th {\n",
       "        text-align: right;\n",
       "    }\n",
       "</style>\n",
       "<table border=\"1\" class=\"dataframe\">\n",
       "  <thead>\n",
       "    <tr style=\"text-align: right;\">\n",
       "      <th></th>\n",
       "      <th>Pclass</th>\n",
       "      <th>Sex</th>\n",
       "      <th>Age</th>\n",
       "      <th>Parch</th>\n",
       "      <th>Fare</th>\n",
       "      <th>Survived</th>\n",
       "    </tr>\n",
       "  </thead>\n",
       "  <tbody>\n",
       "    <tr>\n",
       "      <th>0</th>\n",
       "      <td>3</td>\n",
       "      <td>1</td>\n",
       "      <td>35.000000</td>\n",
       "      <td>0</td>\n",
       "      <td>7.0500</td>\n",
       "      <td>0</td>\n",
       "    </tr>\n",
       "    <tr>\n",
       "      <th>1</th>\n",
       "      <td>3</td>\n",
       "      <td>1</td>\n",
       "      <td>30.000000</td>\n",
       "      <td>0</td>\n",
       "      <td>7.2500</td>\n",
       "      <td>0</td>\n",
       "    </tr>\n",
       "    <tr>\n",
       "      <th>2</th>\n",
       "      <td>3</td>\n",
       "      <td>1</td>\n",
       "      <td>29.699118</td>\n",
       "      <td>0</td>\n",
       "      <td>14.5000</td>\n",
       "      <td>0</td>\n",
       "    </tr>\n",
       "    <tr>\n",
       "      <th>3</th>\n",
       "      <td>3</td>\n",
       "      <td>0</td>\n",
       "      <td>21.000000</td>\n",
       "      <td>0</td>\n",
       "      <td>7.7500</td>\n",
       "      <td>0</td>\n",
       "    </tr>\n",
       "    <tr>\n",
       "      <th>4</th>\n",
       "      <td>3</td>\n",
       "      <td>1</td>\n",
       "      <td>32.000000</td>\n",
       "      <td>0</td>\n",
       "      <td>56.4958</td>\n",
       "      <td>1</td>\n",
       "    </tr>\n",
       "  </tbody>\n",
       "</table>\n",
       "</div>"
      ],
      "text/plain": [
       "   Pclass  Sex        Age  Parch     Fare  Survived\n",
       "0       3    1  35.000000      0   7.0500         0\n",
       "1       3    1  30.000000      0   7.2500         0\n",
       "2       3    1  29.699118      0  14.5000         0\n",
       "3       3    0  21.000000      0   7.7500         0\n",
       "4       3    1  32.000000      0  56.4958         1"
      ]
     },
     "execution_count": 20,
     "metadata": {},
     "output_type": "execute_result"
    },
    {
     "name": "stdout",
     "output_type": "stream",
     "text": [
      "Number of columns after Feature Selection is: 6\n",
      "Number of Features after Feature Selection is: 5\n"
     ]
    }
   ],
   "source": [
    "# Making copy to preseve the the data without changes\n",
    "FS_test_df = titanicTest_df.copy().drop(['SibSp','Embarked'],axis=1)\n",
    "print(f\"The dimensions of the data frame before Feture Selection are: rows = {titanicTest_df.shape[0]}, columns = {titanicTest_df.shape[1]}\")\n",
    "titanicTest_df.head()\n",
    "print(f\"Number of columns before Feature Selection is: {titanicTest_df.shape[1]}\")\n",
    "print(f\"Number of Features before Feature Selection is: {titanicTest_df.shape[1]-1}\")\n",
    "print(\"\\n\")\n",
    "print(f\"The dimensions of the data frame after Feture Selection are: rows = {FS_test_df.shape[0]}, columns = {FS_test_df.shape[1]}\")\n",
    "FS_test_df.head()\n",
    "print(f\"Number of columns after Feature Selection is: {FS_test_df.shape[1]}\")\n",
    "print(f\"Number of Features after Feature Selection is: {FS_test_df.shape[1]-1}\")\n",
    "\n"
   ]
  },
  {
   "cell_type": "markdown",
   "id": "f9d9fa7b",
   "metadata": {},
   "source": [
    "# Feature Engineering\n",
    "**Data Description of veriable type:**\n",
    "1. Survived --> Binary --> Nominal(Categorial with no orde): (0 = No, 1 = Yes);\n",
    "2. Pclass (Ticket class) --> Ordinal(Categorial with orde): (1 = High, 2 = Middle, 3 = Low);\n",
    "3. Sex --> Binary --> Nominal(Categorial with no orde): (0 = male, 1 = female);\n",
    "4. Parch (num of parents / children aboard the Titanic) --> Continuous number;\n",
    "5. Fare (Ticket cost) --> Continuous number;\n",
    "6. Age (Age of passenger) --> Continuous number;"
   ]
  },
  {
   "cell_type": "markdown",
   "id": "55b4f699",
   "metadata": {},
   "source": [
    "# PCA - for dimensional reduction"
   ]
  },
  {
   "cell_type": "markdown",
   "id": "fc5d421c",
   "metadata": {},
   "source": [
    "**Cheking the correlation netween each features**"
   ]
  },
  {
   "cell_type": "code",
   "execution_count": 21,
   "id": "aca0da79",
   "metadata": {},
   "outputs": [
    {
     "data": {
      "text/html": [
       "<div>\n",
       "<style scoped>\n",
       "    .dataframe tbody tr th:only-of-type {\n",
       "        vertical-align: middle;\n",
       "    }\n",
       "\n",
       "    .dataframe tbody tr th {\n",
       "        vertical-align: top;\n",
       "    }\n",
       "\n",
       "    .dataframe thead th {\n",
       "        text-align: right;\n",
       "    }\n",
       "</style>\n",
       "<table border=\"1\" class=\"dataframe\">\n",
       "  <thead>\n",
       "    <tr style=\"text-align: right;\">\n",
       "      <th></th>\n",
       "      <th>Pclass</th>\n",
       "      <th>Sex</th>\n",
       "      <th>Age</th>\n",
       "      <th>Parch</th>\n",
       "      <th>Fare</th>\n",
       "    </tr>\n",
       "  </thead>\n",
       "  <tbody>\n",
       "    <tr>\n",
       "      <th>0</th>\n",
       "      <td>2</td>\n",
       "      <td>0</td>\n",
       "      <td>45.000000</td>\n",
       "      <td>0</td>\n",
       "      <td>13.5000</td>\n",
       "    </tr>\n",
       "    <tr>\n",
       "      <th>1</th>\n",
       "      <td>3</td>\n",
       "      <td>1</td>\n",
       "      <td>20.000000</td>\n",
       "      <td>0</td>\n",
       "      <td>9.5000</td>\n",
       "    </tr>\n",
       "    <tr>\n",
       "      <th>2</th>\n",
       "      <td>3</td>\n",
       "      <td>1</td>\n",
       "      <td>36.000000</td>\n",
       "      <td>0</td>\n",
       "      <td>7.8958</td>\n",
       "    </tr>\n",
       "    <tr>\n",
       "      <th>3</th>\n",
       "      <td>3</td>\n",
       "      <td>1</td>\n",
       "      <td>22.000000</td>\n",
       "      <td>0</td>\n",
       "      <td>8.0500</td>\n",
       "    </tr>\n",
       "    <tr>\n",
       "      <th>4</th>\n",
       "      <td>3</td>\n",
       "      <td>1</td>\n",
       "      <td>29.699118</td>\n",
       "      <td>0</td>\n",
       "      <td>7.2500</td>\n",
       "    </tr>\n",
       "  </tbody>\n",
       "</table>\n",
       "</div>"
      ],
      "text/plain": [
       "   Pclass  Sex        Age  Parch     Fare\n",
       "0       2    0  45.000000      0  13.5000\n",
       "1       3    1  20.000000      0   9.5000\n",
       "2       3    1  36.000000      0   7.8958\n",
       "3       3    1  22.000000      0   8.0500\n",
       "4       3    1  29.699118      0   7.2500"
      ]
     },
     "execution_count": 21,
     "metadata": {},
     "output_type": "execute_result"
    },
    {
     "data": {
      "text/plain": [
       "(491, 5)"
      ]
     },
     "execution_count": 21,
     "metadata": {},
     "output_type": "execute_result"
    }
   ],
   "source": [
    "features_df = FS_train_df.copy().drop('Survived', axis=1)\n",
    "features_df.head()\n",
    "features_df.shape"
   ]
  },
  {
   "cell_type": "code",
   "execution_count": 22,
   "id": "27c8bd99",
   "metadata": {},
   "outputs": [
    {
     "data": {
      "text/plain": [
       "<Figure size 800x600 with 0 Axes>"
      ]
     },
     "execution_count": 22,
     "metadata": {},
     "output_type": "execute_result"
    },
    {
     "data": {
      "text/plain": [
       "<AxesSubplot:>"
      ]
     },
     "execution_count": 22,
     "metadata": {},
     "output_type": "execute_result"
    },
    {
     "data": {
      "text/plain": [
       "Text(0.5, 1.0, 'Correlation Heatmap (Bottom Half Only)')"
      ]
     },
     "execution_count": 22,
     "metadata": {},
     "output_type": "execute_result"
    },
    {
     "data": {
      "image/png": "[encoded data removed]",
      "text/plain": [
       "<Figure size 800x600 with 2 Axes>"
      ]
     },
     "metadata": {},
     "output_type": "display_data"
    },
    {
     "name": "stdout",
     "output_type": "stream",
     "text": [
      "\n",
      "High Correlation Pairs:\n",
      "  Feature 1 Feature 2  Correlation\n",
      "1       Age    Pclass    -0.299430\n",
      "4     Parch       Sex    -0.265989\n",
      "5     Parch       Age    -0.281852\n",
      "6      Fare    Pclass    -0.687646\n",
      "\n",
      "Low Correlation Pairs:\n",
      "  Feature 1 Feature 2  Correlation\n",
      "0       Sex    Pclass     0.039095\n",
      "3     Parch    Pclass    -0.011832\n"
     ]
    },
    {
     "data": {
      "text/plain": [
       "<Figure size 600x600 with 0 Axes>"
      ]
     },
     "execution_count": 22,
     "metadata": {},
     "output_type": "execute_result"
    },
    {
     "data": {
      "text/plain": [
       "<AxesSubplot:xlabel='Correlation'>"
      ]
     },
     "execution_count": 22,
     "metadata": {},
     "output_type": "execute_result"
    },
    {
     "data": {
      "text/plain": [
       "Text(0.5, 1.0, 'High and Low Correlation Pairs Between Features')"
      ]
     },
     "execution_count": 22,
     "metadata": {},
     "output_type": "execute_result"
    },
    {
     "data": {
      "text/plain": [
       "Text(0.5, 0, 'Correlation Coefficient')"
      ]
     },
     "execution_count": 22,
     "metadata": {},
     "output_type": "execute_result"
    },
    {
     "data": {
      "text/plain": [
       "Text(0, 0.5, 'Feature Pairs')"
      ]
     },
     "execution_count": 22,
     "metadata": {},
     "output_type": "execute_result"
    },
    {
     "data": {
      "text/plain": [
       "<matplotlib.lines.Line2D at 0x1e0774153d0>"
      ]
     },
     "execution_count": 22,
     "metadata": {},
     "output_type": "execute_result"
    },
    {
     "data": {
      "image/png": "[encoded data removed]",
      "text/plain": [
       "<Figure size 600x600 with 1 Axes>"
      ]
     },
     "metadata": {},
     "output_type": "display_data"
    }
   ],
   "source": [
    "# Calculate the Correlation Matrix & Display Heatmap\n",
    "corrFeature_matrix = features_df.corr()\n",
    "\n",
    "# Set up the matplotlib figure\n",
    "plt.figure(figsize=(8, 6))\n",
    "\n",
    "# Mask for the upper triangle\n",
    "mask = np.triu(np.ones_like(corrFeature_matrix, dtype=bool))\n",
    "\n",
    "# Create a heatmap with only the lower triangle shown\n",
    "sns.heatmap(\n",
    "    corrFeature_matrix,\n",
    "    mask=mask,  # Apply the mask to hide the upper triangle\n",
    "    annot=True,  # Annotate each cell with the correlation value\n",
    "    cmap='coolwarm',  # Colormap to distinguish positive and negative values\n",
    "    center=0,  # Center the colormap around 0\n",
    "    square=True,  # Keep the cells square-shaped\n",
    "    linewidths=0.5,  # Optional: Add lines between cells for clarity\n",
    "    cbar_kws={\"shrink\": 0.75}  # Optional: Adjust color bar size\n",
    ")\n",
    "\n",
    "# Display the plot\n",
    "plt.title('Correlation Heatmap (Bottom Half Only)')\n",
    "plt.show()\n",
    "\n",
    "# Extract the lower triangle of the correlation matrix\n",
    "corr_pairs = corrFeature_matrix.where(np.tril(np.ones(corrFeature_matrix.shape), k=-1).astype(bool))\n",
    "\n",
    "# Flatten and drop NaN values to get pairs of features with their correlation values\n",
    "corr_pairs_flat = corr_pairs.stack().reset_index()\n",
    "corr_pairs_flat.columns = ['Feature 1', 'Feature 2', 'Correlation']\n",
    "\n",
    "# Define thresholds for high and low correlations\n",
    "high_threshold = 0.25  # Adjust as needed\n",
    "low_threshold = 0.1\n",
    "\n",
    "# Extract high correlations (positive or negative)\n",
    "high_corr_pairs = corr_pairs_flat[\n",
    "    (corr_pairs_flat['Correlation'] > high_threshold) | \n",
    "    (corr_pairs_flat['Correlation'] < -high_threshold)\n",
    "]\n",
    "\n",
    "# Extract low correlations (near zero)\n",
    "low_corr_pairs = corr_pairs_flat[\n",
    "    (corr_pairs_flat['Correlation'] > -low_threshold) & \n",
    "    (corr_pairs_flat['Correlation'] < low_threshold)\n",
    "]\n",
    "\n",
    "# Display high and low correlation pairs\n",
    "print(\"\\nHigh Correlation Pairs:\")\n",
    "print(high_corr_pairs)\n",
    "\n",
    "print(\"\\nLow Correlation Pairs:\")\n",
    "print(low_corr_pairs)\n",
    "\n",
    "# Combine high and low correlation pairs into one DataFrame for visualization\n",
    "combined_corr_pairs = pd.concat([high_corr_pairs, low_corr_pairs])\n",
    "\n",
    "# Create bar plot for high and low correlation pairs\n",
    "plt.figure(figsize=(6, 6))\n",
    "sns.barplot(\n",
    "    x=combined_corr_pairs['Correlation'], \n",
    "    y=combined_corr_pairs['Feature 1'] + \" vs \" + combined_corr_pairs['Feature 2'], \n",
    "    palette='coolwarm'\n",
    ")\n",
    "plt.title('High and Low Correlation Pairs Between Features')\n",
    "plt.xlabel('Correlation Coefficient')\n",
    "plt.ylabel('Feature Pairs')\n",
    "plt.axvline(0, color='gray', linestyle='--')  # Line at 0 for reference\n",
    "plt.show()\n"
   ]
  },
  {
   "cell_type": "markdown",
   "id": "2c8c9f1e",
   "metadata": {},
   "source": [
    "**Extract High and Low Correlation Pairs & unite the features**"
   ]
  },
  {
   "cell_type": "code",
   "execution_count": 23,
   "id": "2ad3a20a",
   "metadata": {
    "scrolled": true
   },
   "outputs": [
    {
     "name": "stdout",
     "output_type": "stream",
     "text": [
      "   Pclass  Sex        Age  Parch     Fare  Survived  socioEconomic\n",
      "0       2    0  45.000000      0  13.5000         1       0.102109\n",
      "1       3    1  20.000000      0   9.5000         0      -0.993607\n",
      "2       3    1  36.000000      0   7.8958         0      -1.066025\n",
      "3       3    1  22.000000      0   8.0500         0      -1.059064\n",
      "4       3    1  29.699118      0   7.2500         0      -1.095177\n",
      "   Sex        Age  Parch  Survived  socioEconomic\n",
      "0    0  45.000000      0         1       0.102109\n",
      "1    1  20.000000      0         0      -0.993607\n",
      "2    1  36.000000      0         0      -1.066025\n",
      "3    1  22.000000      0         0      -1.059064\n",
      "4    1  29.699118      0         0      -1.095177\n"
     ]
    },
    {
     "data": {
      "text/plain": [
       "count    4.910000e+02\n",
       "mean     9.835988e-17\n",
       "std      1.300419e+00\n",
       "min     -1.422459e+00\n",
       "25%     -1.065365e+00\n",
       "50%     -6.369835e-01\n",
       "75%      6.663868e-01\n",
       "max      3.851815e+00\n",
       "Name: socioEconomic, dtype: float64"
      ]
     },
     "execution_count": 23,
     "metadata": {},
     "output_type": "execute_result"
    }
   ],
   "source": [
    "# Extract the relevant features from your DataFrame\n",
    "data = FS_train_df.copy()[['Fare', 'Pclass']]  # Extract 'Fare' and 'Pclass' columns from titanicTrain_df\n",
    "\n",
    "# Standardize the features\n",
    "scaler = StandardScaler()\n",
    "data_scaled = scaler.fit_transform(data)  # Scaling the selected features\n",
    "\n",
    "# Apply PCA to reduce the dimensions and create the new socioEconomic feature\n",
    "pca = PCA(n_components=1)  # We want to combine into one principal component\n",
    "socio_economic_component = pca.fit_transform(data_scaled)\n",
    "\n",
    "# Add the new feature back to the original DataFrame\n",
    "FS_train_df['socioEconomic'] = socio_economic_component\n",
    "\n",
    "# Drop the original 'Fare' and 'Pclass' features\n",
    "FS_FE_train_df = FS_train_df.copy().drop(['Fare', 'Pclass'], axis=1)\n",
    "\n",
    "# Display the first few rows of the updated DataFrame to verify the new feature\n",
    "print(FS_train_df.head())\n",
    "print(FS_FE_train_df.head())\n",
    "FS_FE_train_df['socioEconomic'].describe()"
   ]
  },
  {
   "cell_type": "code",
   "execution_count": 24,
   "id": "663a495d",
   "metadata": {},
   "outputs": [
    {
     "name": "stdout",
     "output_type": "stream",
     "text": [
      "   Pclass  Sex        Age  Parch     Fare  Survived  socioEconomic\n",
      "0       3    1  35.000000      0   7.0500         0      -0.908176\n",
      "1       3    1  30.000000      0   7.2500         0      -0.905297\n",
      "2       3    1  29.699118      0  14.5000         0      -0.800923\n",
      "3       3    0  21.000000      0   7.7500         0      -0.898099\n",
      "4       3    1  32.000000      0  56.4958         1      -0.196330\n",
      "   Sex        Age  Parch  Survived  socioEconomic\n",
      "0    1  35.000000      0         0      -0.908176\n",
      "1    1  30.000000      0         0      -0.905297\n",
      "2    1  29.699118      0         0      -0.800923\n",
      "3    0  21.000000      0         0      -0.898099\n",
      "4    1  32.000000      0         1      -0.196330\n"
     ]
    },
    {
     "data": {
      "text/plain": [
       "count    1.790000e+02\n",
       "mean    -4.093560e-17\n",
       "std      1.258207e+00\n",
       "min     -1.009672e+00\n",
       "25%     -8.959999e-01\n",
       "50%     -6.619962e-01\n",
       "75%      2.413760e-01\n",
       "max      4.522888e+00\n",
       "Name: socioEconomic, dtype: float64"
      ]
     },
     "execution_count": 24,
     "metadata": {},
     "output_type": "execute_result"
    }
   ],
   "source": [
    "# Extract the relevant features from your DataFrame\n",
    "data = FS_test_df.copy()[['Fare', 'Pclass']]  # Extract 'Fare' and 'Pclass' columns from titanicTrain_df\n",
    "\n",
    "# Standardize the features\n",
    "scaler = StandardScaler()\n",
    "data_scaled = scaler.fit_transform(data)  # Scaling the selected features\n",
    "\n",
    "# Apply PCA to reduce the dimensions and create the new socioEconomic feature\n",
    "pca = PCA(n_components=1)  # We want to combine into one principal component\n",
    "socio_economic_component = pca.fit_transform(data_scaled)\n",
    "\n",
    "# Add the new feature back to the original DataFrame\n",
    "FS_test_df['socioEconomic'] = socio_economic_component\n",
    "\n",
    "# Drop the original 'Fare' and 'Pclass' features\n",
    "FS_FE_test_df = FS_test_df.copy().drop(['Fare', 'Pclass'], axis=1)\n",
    "\n",
    "# Display the first few rows of the updated DataFrame to verify the new feature\n",
    "print(FS_test_df.head())\n",
    "print(FS_FE_test_df.head())\n",
    "FS_FE_test_df['socioEconomic'].describe()"
   ]
  },
  {
   "cell_type": "markdown",
   "id": "1d3f3a15",
   "metadata": {},
   "source": [
    "# Conducting experiments:\n",
    "**Selecting the best permutation of:**\n",
    "1. Feature Engineering .\n",
    "2. Hyper Parameter.\n",
    "3. Machine Learning Model. \n",
    "**Using the 5-fold-cross-validation method with Grid Search** "
   ]
  },
  {
   "cell_type": "code",
   "execution_count": 25,
   "id": "630b6987",
   "metadata": {},
   "outputs": [],
   "source": [
    "# Define features and target variable for training and testing sets\n",
    "# Ensure 'Survived' is excluded from X_train and X_test\n",
    "X_train = FS_FE_train_df.drop(columns=['Survived'])  # Features for the training set\n",
    "y_train = FS_FE_train_df['Survived']                # Target variable for the training set\n",
    "\n",
    "X_test = FS_FE_test_df.drop(columns=['Survived'])   # Features for the test set\n",
    "y_test = FS_FE_test_df['Survived']                  # Target variable for the test set\n",
    "\n",
    "# Split the original training set into new train and validation sets\n",
    "X_train_new, X_val, y_train_new, y_val = train_test_split(X_train, y_train, test_size=0.2, random_state=42)"
   ]
  },
  {
   "cell_type": "code",
   "execution_count": 26,
   "id": "6100cd91",
   "metadata": {
    "scrolled": true
   },
   "outputs": [
    {
     "name": "stdout",
     "output_type": "stream",
     "text": [
      "                                               Model    Recall  F1 Score  \\\n",
      "0  KNeighborsClassifier(metric='manhattan', n_nei...  0.491803  0.555556   \n",
      "1                                       GaussianNB()  0.754098  0.691729   \n",
      "2  DecisionTreeClassifier(criterion='entropy', ma...  0.573770  0.619469   \n",
      "\n",
      "                                     Best Parameters  Best CV Accuracy  \\\n",
      "0          {'metric': 'manhattan', 'n_neighbors': 3}          0.747413   \n",
      "1                           {'var_smoothing': 1e-09}          0.753474   \n",
      "2  {'criterion': 'entropy', 'max_depth': 10, 'min...          0.753597   \n",
      "\n",
      "   Accuracy  Precision  \n",
      "0  0.731844   0.638298  \n",
      "1  0.770950   0.638889  \n",
      "2  0.759777   0.673077  \n"
     ]
    }
   ],
   "source": [
    "# Define parameter grids for KNN , Naive Bayes and Decision Tree models\n",
    "param_grid_KNN = {\n",
    "    'n_neighbors': [3, 5, 7, 9],\n",
    "    'metric': ['euclidean', 'manhattan', 'chebyshev']\n",
    "}\n",
    "\n",
    "param_grid_DT = {\n",
    "    'criterion': ['gini', 'entropy'],\n",
    "    'max_depth': [None, 10, 20, 30, 40, 50],\n",
    "    'min_samples_split': [2, 5, 10],\n",
    "    'min_samples_leaf': [1, 2, 4]\n",
    "}\n",
    "\n",
    "\n",
    "param_grid_NB = {\n",
    "    'var_smoothing': [1e-9, 1e-8, 1e-7, 1e-6, 1e-5]\n",
    "}\n",
    "\n",
    "# List of models to evaluate\n",
    "models = [\n",
    "    ('KNN', KNeighborsClassifier(), param_grid_KNN),\n",
    "    ('Naive Bayes', GaussianNB(), param_grid_NB),\n",
    "    ('Decision_Tree', DecisionTreeClassifier(), param_grid_DT)\n",
    "]\n",
    "\n",
    "# Function to run grid search and evaluation\n",
    "def run_grid_search_and_evaluation(X_train, y_train, model, param_grid):\n",
    "    # Perform grid search with cross-validation\n",
    "    grid_search = GridSearchCV(estimator=model, param_grid=param_grid, cv=5, scoring='accuracy')\n",
    "    grid_search.fit(X_train, y_train)\n",
    "    \n",
    "    # Get the best model from the grid search\n",
    "    best_model = grid_search.best_estimator_\n",
    "    best_model.fit(X_train, y_train)\n",
    "    \n",
    "    # Make predictions on the test data\n",
    "    y_pred = best_model.predict(X_test)\n",
    "    \n",
    "    # Calculate evaluation metrics\n",
    "    accuracy = accuracy_score(y_test, y_pred)\n",
    "    precision = precision_score(y_test, y_pred)\n",
    "    recall = recall_score(y_test, y_pred)\n",
    "    f1 = f1_score(y_test, y_pred)\n",
    "    \n",
    "    # Return the results including the actual best model object\n",
    "    return {\n",
    "        'Model': best_model,  # Storing the actual model object, not just the name\n",
    "        'Recall': recall,\n",
    "        'F1 Score': f1,\n",
    "        'Best Parameters': grid_search.best_params_,\n",
    "        'Best CV Accuracy': grid_search.best_score_,\n",
    "        'Accuracy': accuracy,\n",
    "        'Precision': precision\n",
    "    }\n",
    "\n",
    "# List to store results\n",
    "results = []\n",
    "\n",
    "# Run evaluation for each model\n",
    "for name, model, param_grid in models:\n",
    "    result = run_grid_search_and_evaluation(X_train, y_train, model, param_grid)\n",
    "    results.append(result)\n",
    "\n",
    "# Create a DataFrame to display results\n",
    "results_df = pd.DataFrame(results)\n",
    "print(results_df)"
   ]
  },
  {
   "cell_type": "markdown",
   "id": "67d97f11",
   "metadata": {},
   "source": [
    "## Part 4 - Training \n",
    "Use the best combination of feature engineering, model (algorithm and hyperparameters) from the experiment part (part 3)"
   ]
  },
  {
   "cell_type": "code",
   "execution_count": 27,
   "id": "93713ead",
   "metadata": {},
   "outputs": [
    {
     "name": "stdout",
     "output_type": "stream",
     "text": [
      "Best Model: GaussianNB\n",
      "Best Parameters: {'var_smoothing': 1e-09}\n"
     ]
    },
    {
     "data": {
      "text/plain": [
       "Pipeline(steps=[('scaler', StandardScaler()), ('best_model', GaussianNB())])"
      ]
     },
     "execution_count": 27,
     "metadata": {},
     "output_type": "execute_result"
    }
   ],
   "source": [
    "# Extract the best model based on a specific metric (e.g., highest accuracy)\n",
    "best_result = max(results, key=lambda x: x['Accuracy'])  # Modify the key if needed\n",
    "best_model = best_result['Model']  # Extract the best model object\n",
    "print(f\"Best Model: {type(best_model).__name__}\")  # Print the class of the best model\n",
    "print(f\"Best Parameters: {best_result['Best Parameters']}\")\n",
    "\n",
    "# Step 4: Create a pipeline with the best model\n",
    "pipeline = Pipeline([\n",
    "    ('scaler', StandardScaler()),  # Add scaling or other preprocessing steps as needed\n",
    "    ('best_model', best_model)     # Insert the best model instance\n",
    "])\n",
    "\n",
    "# Step 5: Retrain the best model using the pipeline on the full training data\n",
    "pipeline.fit( X_val, y_val)\n",
    "\n",
    "\n"
   ]
  },
  {
   "cell_type": "markdown",
   "id": "259ab902",
   "metadata": {},
   "source": [
    "## Part 5 - Apply on test and show model performance estimation"
   ]
  },
  {
   "cell_type": "code",
   "execution_count": 28,
   "id": "d9971aa5",
   "metadata": {},
   "outputs": [
    {
     "name": "stdout",
     "output_type": "stream",
     "text": [
      "Final Accuracy: 0.7821229050279329\n",
      "Final Precision: 0.6571428571428571\n",
      "Final Recall: 0.7540983606557377\n",
      "Final F1 Score: 0.7022900763358779\n"
     ]
    }
   ],
   "source": [
    "# Step 6: Predict on the test data\n",
    "y_test_pred = pipeline.predict(X_test)\n",
    "\n",
    "# Evaluate the retrained best model\n",
    "final_accuracy = accuracy_score(y_test, y_test_pred)\n",
    "final_precision = precision_score(y_test, y_test_pred, average='binary')  # Adjust based on your task type\n",
    "final_recall = recall_score(y_test, y_test_pred, average='binary')\n",
    "final_f1 = f1_score(y_test, y_test_pred, average='binary')\n",
    "\n",
    "# Display final evaluation metrics\n",
    "print(f\"Final Accuracy: {final_accuracy}\")\n",
    "print(f\"Final Precision: {final_precision}\")\n",
    "print(f\"Final Recall: {final_recall}\")\n",
    "print(f\"Final F1 Score: {final_f1}\")"
   ]
  },
  {
   "cell_type": "code",
   "execution_count": 29,
   "id": "00d8aa96",
   "metadata": {},
   "outputs": [
    {
     "name": "stdout",
     "output_type": "stream",
     "text": [
      "Training Accuracy: 0.7678207739307535\n",
      "Training Precision: 0.7098445595854922\n",
      "Training Recall: 0.7025641025641025\n",
      "Training F1 Score: 0.7061855670103092\n",
      "\n",
      "\n",
      "Test Accuracy: 0.7821229050279329\n",
      "Test Precision: 0.6571428571428571\n",
      "Test Recall: 0.7540983606557377\n",
      "Test F1 Score: 0.7022900763358779\n",
      "\n",
      "Classification Report on Training Data:\n",
      "              precision    recall  f1-score   support\n",
      "\n",
      "           0       0.81      0.81      0.81       296\n",
      "           1       0.71      0.70      0.71       195\n",
      "\n",
      "    accuracy                           0.77       491\n",
      "   macro avg       0.76      0.76      0.76       491\n",
      "weighted avg       0.77      0.77      0.77       491\n",
      "\n",
      "\n",
      "Classification Report on Test Data:\n",
      "              precision    recall  f1-score   support\n",
      "\n",
      "           0       0.86      0.80      0.83       118\n",
      "           1       0.66      0.75      0.70        61\n",
      "\n",
      "    accuracy                           0.78       179\n",
      "   macro avg       0.76      0.78      0.77       179\n",
      "weighted avg       0.79      0.78      0.79       179\n",
      "\n",
      "\n",
      "Performance Gap (Training - Test): -0.01\n",
      "The model's performance is consistent; overfitting is unlikely.\n"
     ]
    }
   ],
   "source": [
    "from sklearn.metrics import classification_report\n",
    "\n",
    "# Evaluate the best model's performance on the training data\n",
    "y_train_pred = pipeline.predict(X_train)\n",
    "\n",
    "# Calculate training metrics\n",
    "train_accuracy = accuracy_score(y_train, y_train_pred)\n",
    "train_precision = precision_score(y_train, y_train_pred, average='binary')  # Adjust average based on task type\n",
    "train_recall = recall_score(y_train, y_train_pred, average='binary')\n",
    "train_f1 = f1_score(y_train, y_train_pred, average='binary')\n",
    "\n",
    "# Print training evaluation metrics\n",
    "print(f\"Training Accuracy: {train_accuracy}\")\n",
    "print(f\"Training Precision: {train_precision}\")\n",
    "print(f\"Training Recall: {train_recall}\")\n",
    "print(f\"Training F1 Score: {train_f1}\")\n",
    "print(\"\\n\")\n",
    "\n",
    "# Evaluate the model's performance on the test data (already calculated previously)\n",
    "print(f\"Test Accuracy: {final_accuracy}\")\n",
    "print(f\"Test Precision: {final_precision}\")\n",
    "print(f\"Test Recall: {final_recall}\")\n",
    "print(f\"Test F1 Score: {final_f1}\")\n",
    "\n",
    "# Optional: Display a detailed classification report for both training and test data\n",
    "print(\"\\nClassification Report on Training Data:\")\n",
    "print(classification_report(y_train, y_train_pred))\n",
    "\n",
    "print(\"\\nClassification Report on Test Data:\")\n",
    "print(classification_report(y_test, y_test_pred))\n",
    "\n",
    "# Check for overfitting by comparing the scores\n",
    "performance_gap = train_accuracy - final_accuracy\n",
    "print(f\"\\nPerformance Gap (Training - Test): {performance_gap:.2f}\")\n",
    "\n",
    "# Interpretation of performance gap\n",
    "if performance_gap > 0.1:  # Threshold can be adjusted based on context; 0.1 is an example\n",
    "    print(\"Warning: The model might be overfitting. The performance gap is significant.\")\n",
    "else:\n",
    "    print(\"The model's performance is consistent; overfitting is unlikely.\")\n",
    "# Evaluate the best model's performance on the training data\n",
    "y_train_pred = pipeline.predict(X_train)"
   ]
  }
 ],
 "metadata": {
  "kernelspec": {
   "display_name": "Python 3 (ipykernel)",
   "language": "python",
   "name": "python3"
  },
  "language_info": {
   "codemirror_mode": {
    "name": "ipython",
    "version": 3
   },
   "file_extension": ".py",
   "mimetype": "text/x-python",
   "name": "python",
   "nbconvert_exporter": "python",
   "pygments_lexer": "ipython3",
   "version": "3.9.13"
  }
 },
 "nbformat": 4,
 "nbformat_minor": 5
}
